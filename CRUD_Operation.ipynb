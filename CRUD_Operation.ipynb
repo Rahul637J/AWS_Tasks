{
 "cells": [
  {
   "cell_type": "markdown",
   "metadata": {},
   "source": [
    "'''<br>\n",
    "@Author: Rahul <br>\n",
    "@Date: 2024-10-24<br>\n",
    "@Last Modified by: Rahul <br>\n",
    "@Last Modified time: 2024-10-24<br>\n",
    "@Title: Python program to do CRUD Operation in DynamoDB<br>\n",
    "'''"
   ]
  },
  {
   "cell_type": "code",
   "execution_count": 1,
   "metadata": {},
   "outputs": [],
   "source": [
    "import boto3\n",
    "from botocore.exceptions import ClientError\n",
    "from pprint import pprint\n",
    "from decimal import Decimal\n",
    "import time"
   ]
  },
  {
   "cell_type": "markdown",
   "metadata": {},
   "source": [
    "Create Table"
   ]
  },
  {
   "cell_type": "code",
   "execution_count": 2,
   "metadata": {},
   "outputs": [],
   "source": [
    "\n",
    "# Create a DynamoDB client\n",
    "client = boto3.client('dynamodb')\n",
    "\n",
    "# Create DynamoDB table\n",
    "def create_movie_table():\n",
    "    table = client.create_table(\n",
    "        TableName='Movies',\n",
    "        KeySchema=[\n",
    "            {\n",
    "                'AttributeName': 'year',\n",
    "                'KeyType': 'HASH'  \n",
    "            },\n",
    "            {\n",
    "                'AttributeName': 'title',\n",
    "                'KeyType': 'RANGE'  \n",
    "            }\n",
    "        ],\n",
    "        AttributeDefinitions=[\n",
    "            {\n",
    "                'AttributeName': 'year',\n",
    "                'AttributeType': 'N'\n",
    "            },\n",
    "            {\n",
    "                'AttributeName': 'title',\n",
    "                'AttributeType': 'S'\n",
    "            },\n",
    "        ],\n",
    "        ProvisionedThroughput={\n",
    "            'ReadCapacityUnits': 10,\n",
    "            'WriteCapacityUnits': 10\n",
    "        }\n",
    "    )\n",
    "    return table\n",
    "\n",
    "movie_table = create_movie_table()\n",
    "print(\"Create DynamoDB table succeeded............\")\n",
    "print(\"Table status: {}\".format(movie_table['TableDescription']['TableStatus']))\n"
   ]
  },
  {
   "cell_type": "markdown",
   "metadata": {},
   "source": [
    "Insert Into Table"
   ]
  },
  {
   "cell_type": "code",
   "execution_count": 9,
   "metadata": {},
   "outputs": [
    {
     "name": "stdout",
     "output_type": "stream",
     "text": [
      "Movie inserted into DynamoDB: {'ResponseMetadata': {'RequestId': '9033B526JB4QQ8VNR1LPJHV4RJVV4KQNSO5AEMVJF66Q9ASUAAJG', 'HTTPStatusCode': 200, 'HTTPHeaders': {'server': 'Server', 'date': 'Thu, 24 Oct 2024 12:45:26 GMT', 'content-type': 'application/x-amz-json-1.0', 'content-length': '2', 'connection': 'keep-alive', 'x-amzn-requestid': '9033B526JB4QQ8VNR1LPJHV4RJVV4KQNSO5AEMVJF66Q9ASUAAJG', 'x-amz-crc32': '2745614147'}, 'RetryAttempts': 0}}\n"
     ]
    }
   ],
   "source": [
    "\n",
    "def put_movie(title, year, plot, rating):\n",
    "    response = client.put_item(\n",
    "       TableName='Movies',\n",
    "       Item={\n",
    "            'year': {\n",
    "                'N': \"{}\".format(year),\n",
    "            },\n",
    "            'title': {\n",
    "                'S': \"{}\".format(title),\n",
    "            },\n",
    "            'plot': {\n",
    "                \"S\": \"{}\".format(plot),\n",
    "            },\n",
    "            'rating': {\n",
    "                \"N\": \"{}\".format(rating),\n",
    "            }\n",
    "        }\n",
    "    )\n",
    "    return response\n",
    "\n",
    "response = put_movie(\"The Big New Movie\", 2015, \"A movie about big things\", 8.5)\n",
    "print(\"Movie inserted into DynamoDB:\", response)\n"
   ]
  },
  {
   "cell_type": "markdown",
   "metadata": {},
   "source": [
    "Get Movie"
   ]
  },
  {
   "cell_type": "code",
   "execution_count": 6,
   "metadata": {},
   "outputs": [
    {
     "name": "stdout",
     "output_type": "stream",
     "text": [
      "Get an item from DynamoDB succeeded............\n",
      "{'year': {'N': '2015'},\n",
      " 'plot': {'S': 'A movie about big things'},\n",
      " 'rating': {'N': '8.5'},\n",
      " 'title': {'S': 'The Big New Movie'}}\n"
     ]
    }
   ],
   "source": [
    "\n",
    "# Create a DynamoDB client\n",
    "client = boto3.client('dynamodb')\n",
    "\n",
    "def get_movie(title, year):\n",
    "    try:\n",
    "        response = client.get_item(       \n",
    "            TableName='Movies',\n",
    "            Key={\n",
    "                'year': {\n",
    "                    'N': \"{}\".format(year),\n",
    "                },\n",
    "                'title': {\n",
    "                    'S': \"{}\".format(title),\n",
    "                }\n",
    "            }\n",
    "        )\n",
    "    except ClientError as e:\n",
    "        print(e.response['Error']['Message'])\n",
    "    else:\n",
    "        return response.get('Item')\n",
    "\n",
    "movie = get_movie(\"The Big New Movie\", 2015)\n",
    "\n",
    "if movie:\n",
    "    print(\"Get an item from DynamoDB succeeded............\")\n",
    "    pprint(movie, sort_dicts=False)\n",
    "else:\n",
    "    print(\"Movie not found in DynamoDB.\")\n"
   ]
  },
  {
   "cell_type": "markdown",
   "metadata": {},
   "source": [
    "Update Table"
   ]
  },
  {
   "cell_type": "code",
   "execution_count": 7,
   "metadata": {},
   "outputs": [
    {
     "name": "stdout",
     "output_type": "stream",
     "text": [
      "Update and item in  DynamoDB succeeded............\n",
      "{'Attributes': {'plot': {'S': 'Everything happens all at once.'},\n",
      "                'rating': {'N': '5.5'},\n",
      "                'actors': {'SS': ['Curly', 'Larry', 'Moe']}},\n",
      " 'ResponseMetadata': {'RequestId': 'B2P5S0JTMPQH7J14BGINF6HQAVVV4KQNSO5AEMVJF66Q9ASUAAJG',\n",
      "                      'HTTPStatusCode': 200,\n",
      "                      'HTTPHeaders': {'server': 'Server',\n",
      "                                      'date': 'Thu, 24 Oct 2024 12:28:50 GMT',\n",
      "                                      'content-type': 'application/x-amz-json-1.0',\n",
      "                                      'content-length': '124',\n",
      "                                      'connection': 'keep-alive',\n",
      "                                      'x-amzn-requestid': 'B2P5S0JTMPQH7J14BGINF6HQAVVV4KQNSO5AEMVJF66Q9ASUAAJG',\n",
      "                                      'x-amz-crc32': '2033653244'},\n",
      "                      'RetryAttempts': 0}}\n"
     ]
    }
   ],
   "source": [
    "def update_movie(title, year, rating, plot, actors):\n",
    "    response = client.update_item(\n",
    "        TableName='Movies',\n",
    "        Key={\n",
    "            'year': {\n",
    "                    'N': \"{}\".format(year),\n",
    "            },\n",
    "            'title': {\n",
    "                    'S': \"{}\".format(title),\n",
    "            }\n",
    "        },\n",
    "        ExpressionAttributeNames={\n",
    "            '#R': 'rating',\n",
    "            '#P': 'plot',\n",
    "            '#A': 'actors'\n",
    "        },\n",
    "        ExpressionAttributeValues={\n",
    "            ':r': {\n",
    "                'N': \"{}\".format(rating),\n",
    "            },\n",
    "            ':p': {\n",
    "                'S': \"{}\".format(plot),\n",
    "            },\n",
    "            ':a': {\n",
    "                'SS': actors,\n",
    "            }\n",
    "        },\n",
    "        UpdateExpression='SET #R = :r, #P = :p, #A = :a',\n",
    "        ReturnValues=\"UPDATED_NEW\"\n",
    "    )\n",
    "    return response\n",
    "\n",
    "update_response = update_movie( \"The Big New Movie\", 2015, 5.5, \"Everything happens all at once.\",[\"Larry\", \"Moe\", \"Curly\"])\n",
    "print(\"Update and item in  DynamoDB succeeded............\")\n",
    "pprint(update_response, sort_dicts=False)"
   ]
  },
  {
   "cell_type": "markdown",
   "metadata": {},
   "source": [
    "Delete Operation"
   ]
  },
  {
   "cell_type": "code",
   "execution_count": 8,
   "metadata": {},
   "outputs": [
    {
     "name": "stdout",
     "output_type": "stream",
     "text": [
      "Delete an Item in DynamoDB table.........................\n",
      "{'ResponseMetadata': {'RequestId': 'EM85RPCEC0VETPAUTC3I6U8OJFVV4KQNSO5AEMVJF66Q9ASUAAJG',\n",
      "                      'HTTPStatusCode': 200,\n",
      "                      'HTTPHeaders': {'server': 'Server',\n",
      "                                      'date': 'Thu, 24 Oct 2024 12:30:13 GMT',\n",
      "                                      'content-type': 'application/x-amz-json-1.0',\n",
      "                                      'content-length': '2',\n",
      "                                      'connection': 'keep-alive',\n",
      "                                      'x-amzn-requestid': 'EM85RPCEC0VETPAUTC3I6U8OJFVV4KQNSO5AEMVJF66Q9ASUAAJG',\n",
      "                                      'x-amz-crc32': '2745614147'},\n",
      "                      'RetryAttempts': 0}}\n"
     ]
    }
   ],
   "source": [
    "def delete_underrated_movie(title, year, rating):\n",
    "    try:\n",
    "        response = client.delete_item(\n",
    "            TableName='Movies',\n",
    "            Key={\n",
    "                'year': {\n",
    "                    'N': \"{}\".format(year),\n",
    "                },\n",
    "                'title': {\n",
    "                    'S': \"{}\".format(title),\n",
    "                }\n",
    "            },\n",
    "            ConditionExpression=\"rating <= :a\",\n",
    "            ExpressionAttributeValues={\n",
    "                ':a': {\n",
    "                    'N': \"{}\".format(rating),\n",
    "                }\n",
    "            }\n",
    "        )\n",
    "    except ClientError as e:\n",
    "        if e.response['Error']['Code'] == \"ConditionalCheckFailedException\":\n",
    "            print(e.response['Error']['Message'])\n",
    "        else:\n",
    "            raise\n",
    "    else:\n",
    "        return response \n",
    "\n",
    "delete_response = delete_underrated_movie(\"The Big New Movie\", 2015, 7.5)\n",
    "if delete_response:\n",
    "    print(\"Delete an Item in DynamoDB table.........................\")\n",
    "    pprint(delete_response, sort_dicts=False)"
   ]
  }
 ],
 "metadata": {
  "kernelspec": {
   "display_name": "Python 3",
   "language": "python",
   "name": "python3"
  },
  "language_info": {
   "codemirror_mode": {
    "name": "ipython",
    "version": 3
   },
   "file_extension": ".py",
   "mimetype": "text/x-python",
   "name": "python",
   "nbconvert_exporter": "python",
   "pygments_lexer": "ipython3",
   "version": "3.12.4"
  }
 },
 "nbformat": 4,
 "nbformat_minor": 2
}
