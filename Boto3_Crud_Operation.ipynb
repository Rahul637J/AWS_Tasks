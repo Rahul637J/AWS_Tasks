{
 "cells": [
  {
   "cell_type": "markdown",
   "metadata": {},
   "source": [
    "'''<br>\n",
    "@Author: Rahul <br>\n",
    "@Date: 2024-10-19<br>\n",
    "@Last Modified by: Rahul <br>\n",
    "@Last Modified time: 2024-10-19<br>\n",
    "@Title: Python program to access s3 bucket in AWS<br>\n",
    "'''"
   ]
  },
  {
   "cell_type": "code",
   "execution_count": 3,
   "metadata": {},
   "outputs": [],
   "source": [
    "import boto3\n",
    "from botocore.exceptions import ClientError"
   ]
  },
  {
   "cell_type": "code",
   "execution_count": 4,
   "metadata": {},
   "outputs": [],
   "source": [
    "r2session = boto3.Session(region_name='ap-south-1')\n",
    "\n",
    "# Create the S3 client\n",
    "s3client = r2session.client('s3')\n",
    "s3resource = r2session.resource('s3')"
   ]
  },
  {
   "cell_type": "markdown",
   "metadata": {},
   "source": [
    "Variables"
   ]
  },
  {
   "cell_type": "code",
   "execution_count": 5,
   "metadata": {},
   "outputs": [],
   "source": [
    "bucket_name = \"rahul637boto\"\n",
    "file_name = r\"D:\\Movie\\www.TamilYogi.plus_-_Kushi_(2023)_Tamil_WEB_DL_1080p_AVC_(DD+5_1_640Kbps_&_AAC)_3GB_ESub_HD_720p.mp4\"  # Replace with your file path\n",
    "object_name = \"uploaded_movie.mp4\"  # The name for the file in the S3 bucket"
   ]
  },
  {
   "cell_type": "markdown",
   "metadata": {},
   "source": [
    "Creating Bucket"
   ]
  },
  {
   "cell_type": "code",
   "execution_count": 41,
   "metadata": {},
   "outputs": [
    {
     "name": "stdout",
     "output_type": "stream",
     "text": [
      "Bucket 'rahul637boto' created successfully in 'ap-south-1'.\n"
     ]
    }
   ],
   "source": [
    "\n",
    "# Create the bucket with region-specific configuration\n",
    "try:\n",
    "    s3client.create_bucket(\n",
    "        Bucket=bucket_name,\n",
    "        CreateBucketConfiguration={\n",
    "            'LocationConstraint': 'ap-south-1'\n",
    "        }\n",
    "    )\n",
    "    print(f\"Bucket '{bucket_name}' created successfully in 'ap-south-1'.\")\n",
    "except ClientError as e:\n",
    "    print(f\"Error: {e}\")\n"
   ]
  },
  {
   "cell_type": "markdown",
   "metadata": {},
   "source": [
    "Deleting objects"
   ]
  },
  {
   "cell_type": "code",
   "execution_count": 8,
   "metadata": {},
   "outputs": [
    {
     "name": "stdout",
     "output_type": "stream",
     "text": [
      "All objects in 'rahul637boto' have been deleted.\n"
     ]
    }
   ],
   "source": [
    "def delete_bucket_objects(bucket_name):\n",
    "    try:\n",
    "        bucket = s3resource.Bucket(bucket_name)\n",
    "        bucket.objects.all().delete()  # Deletes all objects in the bucket\n",
    "        print(f\"All objects in '{bucket_name}' have been deleted.\")\n",
    "    except ClientError as e:\n",
    "        print(f\"Error deleting objects: {e}\")\n",
    "\n",
    "delete_bucket_objects(bucket_name)  "
   ]
  },
  {
   "cell_type": "markdown",
   "metadata": {},
   "source": [
    "Deleting Bucket"
   ]
  },
  {
   "cell_type": "code",
   "execution_count": 9,
   "metadata": {},
   "outputs": [
    {
     "name": "stdout",
     "output_type": "stream",
     "text": [
      "Bucket 'rahul637boto' deleted successfully.\n"
     ]
    }
   ],
   "source": [
    "# Function to delete the bucket\n",
    "def delete_bucket(bucket_name):\n",
    "    try:        \n",
    "        # Now, delete the bucket itself\n",
    "        s3client.delete_bucket(Bucket=bucket_name)\n",
    "        print(f\"Bucket '{bucket_name}' deleted successfully.\")\n",
    "    except ClientError as e:\n",
    "        print(f\"Error deleting bucket: {e}\")        \n",
    "\n",
    "delete_bucket(bucket_name) "
   ]
  },
  {
   "cell_type": "markdown",
   "metadata": {},
   "source": [
    "Upload file in s3"
   ]
  },
  {
   "cell_type": "code",
   "execution_count": 31,
   "metadata": {},
   "outputs": [
    {
     "name": "stdout",
     "output_type": "stream",
     "text": [
      "File 'C:\\Users\\rahul\\Desktop\\Python_Learning_Concept\\Python_concepts_To_Learn.txt' uploaded successfully as 'uploaded_file.pdf' in bucket 'rahul637boto'.\n"
     ]
    }
   ],
   "source": [
    "def upload_file_to_s3(file_name, bucket_name, object_name=None):\n",
    "    try:\n",
    "        # If no object name is provided, use the file name\n",
    "        if object_name is None:\n",
    "            object_name = file_name\n",
    "        \n",
    "        # Upload the file\n",
    "        s3client.upload_file(file_name, bucket_name, object_name)\n",
    "        print(f\"File '{file_name}' uploaded successfully as '{object_name}' in bucket '{bucket_name}'.\")\n",
    "    except ClientError as e:\n",
    "        print(f\"Error uploading file: {e}\")\n",
    "\n",
    "# Example usage\n",
    "upload_file_to_s3(file_name, bucket_name, object_name)"
   ]
  },
  {
   "cell_type": "markdown",
   "metadata": {},
   "source": [
    "Uploading large file"
   ]
  },
  {
   "cell_type": "code",
   "execution_count": 7,
   "metadata": {},
   "outputs": [
    {
     "name": "stdout",
     "output_type": "stream",
     "text": [
      "File 'D:\\Movie\\www.TamilYogi.plus_-_Kushi_(2023)_Tamil_WEB_DL_1080p_AVC_(DD+5_1_640Kbps_&_AAC)_3GB_ESub_HD_720p.mp4' uploaded successfully as 'uploaded_movie.mp4' in bucket 'rahul637boto'.\n"
     ]
    }
   ],
   "source": [
    "def upload_file_to_s3(file_name, bucket_name, object_name=None):\n",
    "    try:\n",
    "        # If no object name is provided, use the file name\n",
    "        if object_name is None:\n",
    "            object_name = file_name\n",
    "        \n",
    "        # Upload the file\n",
    "        s3client.upload_file(file_name, bucket_name, object_name)\n",
    "        print(f\"File '{file_name}' uploaded successfully as '{object_name}' in bucket '{bucket_name}'.\")\n",
    "    except ClientError as e:\n",
    "        print(f\"Error uploading file: {e}\")\n",
    "\n",
    "# Example usage\n",
    "upload_file_to_s3(file_name, bucket_name, object_name)"
   ]
  },
  {
   "cell_type": "markdown",
   "metadata": {},
   "source": [
    "Reading the file"
   ]
  },
  {
   "cell_type": "code",
   "execution_count": 32,
   "metadata": {},
   "outputs": [
    {
     "name": "stdout",
     "output_type": "stream",
     "text": [
      "File content of 'uploaded_file.pdf':\n",
      "\n",
      "GitHub Repository Structure:\n",
      "Repo Name\n",
      "    - Development\n",
      "    - Basic Python Programs\n",
      "    - Logical Programs\n",
      "    - Functional Programs\n",
      "\n",
      "Github Commit Message Structure: https://github.com/pvdlg/conventional-commit-types\n",
      "\n",
      "Python program Heading Structure:\n",
      "    \n",
      "\n",
      "'''\n",
      "@Author: Rahul J\n",
      "@Date: 2021-02-11 18:00:30\n",
      "@Last Modified by: Author Name\n",
      "@Last Modified time: 2021-02-11 18:00:30\n",
      "@Title: Program Aim\n",
      "\n",
      "'''\n",
      "Python Program DocString Structure:\n",
      "\n",
      "\n",
      "\"\"\"\n",
      "\n",
      "\n",
      "Description:\n",
      "\n",
      "    Function description in depth\n",
      "\n",
      "Parameter:\n",
      "\n",
      "\n",
      "\n",
      "      List of function Arguments with in usage of that in function block\n",
      "\n",
      "\n",
      "\n",
      "Return:\n",
      "\n",
      "\n",
      "\n",
      "      List of variable values are returning from function\n",
      "\n",
      "\n",
      "\n",
      "\"\"\"\n",
      "Functions And Docstrings\n",
      "https://www.youtube.com/watch?v=xTmBq-CQTVU&feature=youtu.be\n",
      "Git Branches\n",
      "https://www.youtube.com/watch?v=eL_0Ok_Gkas\n",
      "https://www.youtube.com/watch?v=sgzkY5vFKQQ\n",
      "\n",
      "Gitignore\n",
      "https://www.atlassian.com/git/tutorials/saving-changes/gitignore\n",
      "\n",
      "Edit Readme file\n",
      "https://www.youtube.com/watch?v=yXY3f9jw7fg\n",
      "https://docs.github.com/en/github/writing-on-github/basic-writing-and-formatting-syntax\n",
      "Python PlayListhttps://www.youtube.com/playlist?list=PL-osiE80TeTt2d9bfVyTiXJA-UTHn6WwU\n",
      "Try/Except Blocks for Error Handling\n",
      "https://docs.python.org/3/tutorial/errors.html\n",
      "https://airbrake.io/blog/python/class-hierarchy\n",
      "https://www.youtube.com/watch?v=NIWwJbo-9_8&feature=youtu.be\n",
      "https://www.youtube.com/watch?v=Ia1i5EIGp9k&feature=youtu.be\n",
      "https://www.youtube.com/watch?v=VuGYWSs1Tjo&feature=youtu.be\n",
      "\n",
      "Custom and Specific Exception\n",
      "https://www.programiz.com/python-programming/user-defined-exception\n",
      "\n",
      "Logger handling\n",
      "https://www.youtube.com/watch?v=jxmzY9soFXg\n",
      "https://www.youtube.com/watch?v=-ARI4Cz-awo\n",
      "\n",
      "Set Env Variables\n",
      "https://able.bio/rhett/how-to-set-and-get-environment-variables-in-python--274rgt5#\n",
      "\n",
      "Working with CSV file\n",
      "https://www.youtube.com/watch?v=q5uM4VKywbA\n",
      "https://www.freecodecamp.org/news/how-to-create-read-update-and-search-through-excel-files-using-python-c70680d811d4/\n",
      "\n",
      "Working with JSON Datahttps://www.youtube.com/watch?v=9N6a-VLBa2I\n",
      "https://www.geeksforgeeks.org/append-to-json-file-using-python/\n",
      "\n",
      "Unit Tests in Python\n",
      "https://www.youtube.com/watch?v=1Lfv5tUGsn8&feature=youtu.be\n",
      "https://www.youtube.com/watch?v=6tNS--WetLI\n"
     ]
    }
   ],
   "source": [
    "def read_file_from_s3(bucket_name, object_name):\n",
    "    try:\n",
    "        # Fetch the object from S3\n",
    "        response = s3client.get_object(Bucket=bucket_name, Key=object_name)\n",
    "        \n",
    "        # Read the file content\n",
    "        file_content = response['Body'].read().decode('utf-8')  # Decode the bytes to string\n",
    "        print(f\"File content of '{object_name}':\")\n",
    "        print(file_content)\n",
    "\n",
    "    except ClientError as e:\n",
    "        print(f\"Error reading file: {e}\")\n",
    "    except Exception as e:\n",
    "        print(f\"Unexpected error: {e}\")\n",
    "\n",
    "# Example usage\n",
    "read_file_from_s3(bucket_name, object_name)"
   ]
  },
  {
   "cell_type": "markdown",
   "metadata": {},
   "source": [
    "List All the buckets"
   ]
  },
  {
   "cell_type": "code",
   "execution_count": 6,
   "metadata": {},
   "outputs": [
    {
     "name": "stdout",
     "output_type": "stream",
     "text": [
      "Buckets available in your account:\n",
      " - rahul637boto\n"
     ]
    }
   ],
   "source": [
    "def list_buckets():\n",
    "    try:\n",
    "        # Call list_buckets() to retrieve all S3 buckets\n",
    "        response = s3client.list_buckets()\n",
    "\n",
    "        # Check if the list of buckets is empty\n",
    "        if not response['Buckets']:\n",
    "            print(\"No buckets available.\")\n",
    "        else:\n",
    "            print(\"Buckets available in your account:\")\n",
    "            for bucket in response['Buckets']:\n",
    "                print(f\" - {bucket['Name']}\")\n",
    "\n",
    "    except ClientError as e:\n",
    "        print(f\"Error: {e}\")\n",
    "\n",
    "list_buckets()        "
   ]
  },
  {
   "cell_type": "markdown",
   "metadata": {},
   "source": [
    "Download from S3 Bucket"
   ]
  },
  {
   "cell_type": "code",
   "execution_count": null,
   "metadata": {},
   "outputs": [],
   "source": [
    "def download_file_from_s3(bucket_name, object_name, file_name):\n",
    "    try:\n",
    "        # Download the file\n",
    "        s3client.download_file(bucket_name, object_name, file_name)\n",
    "        print(f\"File '{object_name}' downloaded successfully as '{file_name}'.\")\n",
    "    \n",
    "    except ClientError as e:\n",
    "        print(f\"Error downloading file: {e}\")\n",
    "    except Exception as e:\n",
    "        print(f\"Unexpected error: {e}\")\n",
    "\n",
    "download_file_from_s3(bucket_name, object_name, file_name)"
   ]
  }
 ],
 "metadata": {
  "kernelspec": {
   "display_name": "Python 3",
   "language": "python",
   "name": "python3"
  },
  "language_info": {
   "codemirror_mode": {
    "name": "ipython",
    "version": 3
   },
   "file_extension": ".py",
   "mimetype": "text/x-python",
   "name": "python",
   "nbconvert_exporter": "python",
   "pygments_lexer": "ipython3",
   "version": "3.12.4"
  }
 },
 "nbformat": 4,
 "nbformat_minor": 2
}
