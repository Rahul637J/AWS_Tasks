{
 "cells": [
  {
   "cell_type": "markdown",
   "metadata": {},
   "source": [
    "                                                    RDS CRUD OPERATION"
   ]
  },
  {
   "cell_type": "markdown",
   "metadata": {},
   "source": [
    "\n",
    "'''<br>\n",
    "@Author: Rahul<br> \n",
    "@Date: 2024-10-23<br>\n",
    "@Last Modified by: Rahul <br>\n",
    "@Last Modified time: 2024-10-23<br>\n",
    "@Title: Python program to CRUD Operation using RDS instance database.<br>\n",
    "'''"
   ]
  },
  {
   "cell_type": "markdown",
   "metadata": {},
   "source": [
    "Establish Connection"
   ]
  },
  {
   "cell_type": "code",
   "execution_count": 3,
   "metadata": {},
   "outputs": [],
   "source": [
    "import pymssql"
   ]
  },
  {
   "cell_type": "code",
   "execution_count": 14,
   "metadata": {},
   "outputs": [
    {
     "name": "stdout",
     "output_type": "stream",
     "text": [
      "Connection successful!\n"
     ]
    }
   ],
   "source": [
    "\n",
    "server = 'rahulbldb-rj.cxsygi2uk94v.ap-south-1.rds.amazonaws.com'\n",
    "user = 'admin'  \n",
    "password = 'RaHuL637j'  \n",
    "port = 1433  \n",
    "\n",
    "connection = pymssql.connect(server=server, user=user, password=password, port=port,database='rdsrahul')\n",
    "cursor = connection.cursor()\n",
    "connection.autocommit(True)\n",
    "print(\"Connection successful!\")"
   ]
  },
  {
   "cell_type": "markdown",
   "metadata": {},
   "source": [
    "Create or Drop Database operation"
   ]
  },
  {
   "cell_type": "code",
   "execution_count": 15,
   "metadata": {},
   "outputs": [
    {
     "name": "stdout",
     "output_type": "stream",
     "text": [
      "Connection successful!\n",
      "Database 'NewDatabseName' dropped successfully!\n"
     ]
    }
   ],
   "source": [
    "\n",
    "try:\n",
    "    cursor = connection.cursor()\n",
    "    print(\"Connection successful!\")\n",
    "    \n",
    "    new_database_name = input(\"Enter the name of the database: \")\n",
    "    \n",
    "    action = input(\"Do you want to create or drop the database? (create/drop): \").lower()\n",
    "    \n",
    "    if action == 'create':\n",
    "        create_db_query = f\"CREATE DATABASE {new_database_name}\"\n",
    "        cursor.execute(create_db_query)\n",
    "        print(f\"Database '{new_database_name}' created successfully!\")\n",
    "    \n",
    "    elif action == 'drop':\n",
    "        drop_db_query = f\"DROP DATABASE IF EXISTS {new_database_name}\"\n",
    "        cursor.execute(drop_db_query)\n",
    "        print(f\"Database '{new_database_name}' dropped successfully!\")\n",
    "    \n",
    "    else:\n",
    "        print(\"Invalid option selected! Please enter either 'create' or 'drop'.\")\n",
    "    \n",
    "except pymssql.OperationalError as e:\n",
    "    print(f\"OperationalError: {e}\")\n",
    "except Exception as e:\n",
    "    print(f\"An error occurred: {e}\")\n"
   ]
  },
  {
   "cell_type": "markdown",
   "metadata": {},
   "source": [
    "Create Table"
   ]
  },
  {
   "cell_type": "code",
   "execution_count": 8,
   "metadata": {},
   "outputs": [
    {
     "name": "stdout",
     "output_type": "stream",
     "text": [
      "OperationalError: (2714, b\"There is already an object named 'Orders' in the database.DB-Lib error message 20018, severity 16:\\nGeneral SQL Server error: Check messages from the SQL Server\\n\")\n"
     ]
    }
   ],
   "source": [
    "\n",
    "try:\n",
    "    table_name = 'Orders'\n",
    "    \n",
    "    create_table_query = f\"\"\"\n",
    "    CREATE TABLE {table_name} (\n",
    "        OrderID INT PRIMARY KEY IDENTITY(1,1),\n",
    "        ProductID INT,\n",
    "        OrderDate DATETIME DEFAULT GETDATE(),\n",
    "        Quantity INT,\n",
    "        FOREIGN KEY (ProductID) REFERENCES Product(ProductID)\n",
    "    );\n",
    "    \"\"\"\n",
    "        \n",
    "    cursor.execute(create_table_query)\n",
    "\n",
    "    connection.commit()\n",
    "\n",
    "    print(f\"Table {table_name} created successfully!\")\n",
    "\n",
    "except pymssql.OperationalError as e:\n",
    "    print(f\"OperationalError: {e}\")\n",
    "except Exception as e:\n",
    "    print(f\"An error occurred: {e}\")"
   ]
  },
  {
   "cell_type": "markdown",
   "metadata": {},
   "source": [
    "Insert into table"
   ]
  },
  {
   "cell_type": "code",
   "execution_count": 11,
   "metadata": {},
   "outputs": [
    {
     "name": "stdout",
     "output_type": "stream",
     "text": [
      "Data inserted into Product table successfully!\n"
     ]
    }
   ],
   "source": [
    "try: \n",
    "    insert_query = f\"\"\"\n",
    "    INSERT INTO {table_name} (ProductID, OrderDate, Quantity)\n",
    "    VALUES (%d, %s, %d)\n",
    "    \"\"\"\n",
    "\n",
    "    entity_data = [\n",
    "        (1, '2024-10-22', 3),  \n",
    "        (3, '2024-10-23', 1),  \n",
    "        (1, '2024-10-24', 5)   \n",
    "    ]\n",
    "\n",
    "    cursor.executemany(insert_query, entity_data)\n",
    "\n",
    "    connection.commit()\n",
    "\n",
    "    print(\"Data inserted into Product table successfully!\")\n",
    "\n",
    "except pymssql.OperationalError as e:\n",
    "    print(f\"OperationalError: {e}\")\n",
    "except Exception as e:\n",
    "    print(f\"An error occurred: {e}\")"
   ]
  },
  {
   "cell_type": "markdown",
   "metadata": {},
   "source": [
    "Update Table"
   ]
  },
  {
   "cell_type": "code",
   "execution_count": 59,
   "metadata": {},
   "outputs": [
    {
     "name": "stdout",
     "output_type": "stream",
     "text": [
      "Data updated in Product table successfully!\n"
     ]
    }
   ],
   "source": [
    "try:\n",
    "    update_query = \"\"\"\n",
    "    UPDATE Product\n",
    "    SET ProductName = %s,\n",
    "        Price = %d,\n",
    "        StockQuantity = %d,\n",
    "        SupplierID = %d\n",
    "    WHERE ProductID = %d\n",
    "    \"\"\"\n",
    "    \n",
    "    product_update_data = ('Updated Smartphone', 32000, 180, 202, 2)\n",
    "\n",
    "    cursor.execute(update_query, product_update_data)\n",
    "\n",
    "    connection.commit()\n",
    "\n",
    "    print(\"Data updated in Product table successfully!\")\n",
    "\n",
    "except pymssql.OperationalError as e:\n",
    "    print(f\"OperationalError: {e}\")\n",
    "except Exception as e:\n",
    "    print(f\"An error occurred: {e}\")"
   ]
  },
  {
   "cell_type": "markdown",
   "metadata": {},
   "source": [
    "Read Data"
   ]
  },
  {
   "cell_type": "code",
   "execution_count": 60,
   "metadata": {},
   "outputs": [
    {
     "name": "stdout",
     "output_type": "stream",
     "text": [
      "Data retrieved from Product table:\n",
      "ProductID: 1, ProductName: Laptop, Category: Electronics, Price: 75000.00, StockQuantity: 50, SupplierID: 201, ManufactureDate: 2023-05-10\n",
      "ProductID: 2, ProductName: Updated Smartphone, Category: Electronics, Price: 32000.00, StockQuantity: 180, SupplierID: 202, ManufactureDate: 2024-02-15\n",
      "ProductID: 3, ProductName: Refrigerator, Category: Appliances, Price: 45000.00, StockQuantity: 25, SupplierID: 203, ManufactureDate: 2023-12-01\n"
     ]
    }
   ],
   "source": [
    "try:\n",
    "    select_query = \"\"\"\n",
    "    SELECT *\n",
    "    FROM Product\n",
    "    \"\"\"\n",
    "\n",
    "    cursor.execute(select_query)\n",
    "\n",
    "    rows = cursor.fetchall()\n",
    "\n",
    "    if rows:\n",
    "        print(\"Data retrieved from Product table:\")\n",
    "        for row in rows:\n",
    "            print(f\"ProductID: {row[0]}, ProductName: {row[1]}, Category: {row[2]}, Price: {row[3]}, StockQuantity: {row[4]}, SupplierID: {row[5]}, ManufactureDate: {row[6]}\")\n",
    "    else:\n",
    "        print(\"No data found in Product table.\")\n",
    "\n",
    "except pymssql.OperationalError as e:\n",
    "    print(f\"OperationalError: {e}\")\n",
    "except Exception as e:\n",
    "    print(f\"An error occurred: {e}\")"
   ]
  },
  {
   "cell_type": "markdown",
   "metadata": {},
   "source": [
    "Delete Record"
   ]
  },
  {
   "cell_type": "code",
   "execution_count": 61,
   "metadata": {},
   "outputs": [
    {
     "name": "stdout",
     "output_type": "stream",
     "text": [
      "Record with ProductID 2 deleted successfully!\n"
     ]
    }
   ],
   "source": [
    "try:\n",
    "    delete_query = \"\"\"\n",
    "    DELETE FROM Product\n",
    "    WHERE ProductID = %d\n",
    "    \"\"\"\n",
    "    \n",
    "    product_id_to_delete = 2  \n",
    "\n",
    "    cursor.execute(delete_query, (product_id_to_delete,))\n",
    "\n",
    "    connection.commit()\n",
    "\n",
    "    print(f\"Record with ProductID {product_id_to_delete} deleted successfully!\")\n",
    "\n",
    "except pymssql.OperationalError as e:\n",
    "    print(f\"OperationalError: {e}\")\n",
    "except Exception as e:\n",
    "    print(f\"An error occurred: {e}\")"
   ]
  },
  {
   "cell_type": "markdown",
   "metadata": {},
   "source": [
    "Updating Stock and create Order"
   ]
  },
  {
   "cell_type": "code",
   "execution_count": 17,
   "metadata": {},
   "outputs": [
    {
     "name": "stdout",
     "output_type": "stream",
     "text": [
      "Transaction committed successfully!\n"
     ]
    }
   ],
   "source": [
    "def update_stock_and_create_order(product_id, quantity):\n",
    "    try:\n",
    "        cursor = connection.cursor()\n",
    "        \n",
    "        cursor.execute(\"UPDATE Product SET StockQuantity = StockQuantity - %d WHERE ProductID = %d\", (quantity, product_id))\n",
    "        \n",
    "        cursor.execute(\"INSERT INTO Orders (ProductID, OrderDate, Quantity) VALUES (%d, GETDATE(), %d)\", (product_id, quantity))\n",
    "        \n",
    "        connection.commit()\n",
    "        print(\"Transaction committed successfully!\")\n",
    "    \n",
    "    except Exception as e:\n",
    "        connection.rollback()\n",
    "        print(f\"An error occurred: {e}\")\n",
    "\n",
    "update_stock_and_create_order(1, 2)\n"
   ]
  },
  {
   "cell_type": "code",
   "execution_count": null,
   "metadata": {},
   "outputs": [],
   "source": []
  }
 ],
 "metadata": {
  "kernelspec": {
   "display_name": "Python 3",
   "language": "python",
   "name": "python3"
  },
  "language_info": {
   "codemirror_mode": {
    "name": "ipython",
    "version": 3
   },
   "file_extension": ".py",
   "mimetype": "text/x-python",
   "name": "python",
   "nbconvert_exporter": "python",
   "pygments_lexer": "ipython3",
   "version": "3.12.4"
  }
 },
 "nbformat": 4,
 "nbformat_minor": 2
}
