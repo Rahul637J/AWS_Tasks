{
 "cells": [
  {
   "cell_type": "markdown",
   "metadata": {},
   "source": [
    "'''<br>\n",
    "@Author: Rahul <br>\n",
    "@Date: 2024-10-24<br>\n",
    "@Last Modified by: Rahul <br>\n",
    "@Last Modified time: 2024-10-24<br>\n",
    "@Title: Python program demonstrate Import and Export DynamoDB<br>\n",
    "'''"
   ]
  },
  {
   "cell_type": "code",
   "execution_count": 11,
   "metadata": {},
   "outputs": [],
   "source": [
    "import boto3\n",
    "import json\n",
    "import csv\n",
    "from decimal import Decimal"
   ]
  },
  {
   "cell_type": "markdown",
   "metadata": {},
   "source": [
    "Import from DynamoDB as CSV file"
   ]
  },
  {
   "cell_type": "code",
   "execution_count": 9,
   "metadata": {},
   "outputs": [],
   "source": [
    "dynamodb = boto3.resource('dynamodb')\n",
    "table = dynamodb.Table('Movies')\n",
    "\n",
    "response = table.scan()\n",
    "data = response['Items']"
   ]
  },
  {
   "cell_type": "code",
   "execution_count": 5,
   "metadata": {},
   "outputs": [
    {
     "name": "stdout",
     "output_type": "stream",
     "text": [
      "Data exported to data.csv successfully.\n"
     ]
    }
   ],
   "source": [
    "csv_file_name = 'data.csv'\n",
    "\n",
    "if data:\n",
    "    headers = data[0].keys()\n",
    "else:\n",
    "    headers = []\n",
    "\n",
    "with open(csv_file_name, 'w', newline='') as csv_file:\n",
    "    writer = csv.DictWriter(csv_file, fieldnames=headers)\n",
    "    writer.writeheader()  \n",
    "    for item in data:\n",
    "        writer.writerow(item)  \n",
    "\n",
    "print(f\"Data exported to {csv_file_name} successfully.\")\n"
   ]
  },
  {
   "cell_type": "markdown",
   "metadata": {},
   "source": [
    "Import from DynamoDB as JSON file"
   ]
  },
  {
   "cell_type": "code",
   "execution_count": 12,
   "metadata": {},
   "outputs": [
    {
     "name": "stdout",
     "output_type": "stream",
     "text": [
      "Data exported to data.json successfully.\n"
     ]
    }
   ],
   "source": [
    "import json\n",
    "from decimal import Decimal\n",
    "\n",
    "def decimal_default(obj):\n",
    "    if isinstance(obj, Decimal):\n",
    "        return float(obj)  \n",
    "    raise TypeError\n",
    "\n",
    "json_file_name = 'data.json'  \n",
    "\n",
    "# Write data to a JSON file\n",
    "with open(json_file_name, 'w') as json_file:\n",
    "    json.dump(data, json_file, default=decimal_default, indent=4)\n",
    "\n",
    "print(f\"Data exported to {json_file_name} successfully.\")\n"
   ]
  },
  {
   "cell_type": "markdown",
   "metadata": {},
   "source": [
    "Export to DynamoDB"
   ]
  },
  {
   "cell_type": "code",
   "execution_count": 8,
   "metadata": {},
   "outputs": [
    {
     "name": "stdout",
     "output_type": "stream",
     "text": [
      "Inserted: {'year': 2019, 'plot': 'Action', 'rating': '8.5', 'title': 'Vikarm'}\n",
      "Inserted: {'year': 2019, 'plot': 'Sci-Fi', 'rating': '9.5', 'title': 'Instellar'}\n",
      "Inserted: {'year': 2019, 'plot': 'Comedy', 'rating': '7.5', 'title': 'Avesham'}\n",
      "Inserted: {'year': 2019, 'plot': 'Rom-Com', 'rating': '8.5', 'title': 'Premalu'}\n"
     ]
    }
   ],
   "source": [
    "\n",
    "# Read data from the CSV file\n",
    "with open('data.csv', mode='r') as csv_file:\n",
    "    reader = csv.DictReader(csv_file)\n",
    "    for row in reader:\n",
    "        # Convert the year to an integer\n",
    "        if 'year' in row:\n",
    "            row['year'] = int(row['year'])  # Convert to integer\n",
    "        \n",
    "        # Assuming the CSV has columns that match the DynamoDB table's attributes\n",
    "        table.put_item(Item=row)\n",
    "        print(f\"Inserted: {row}\")  # Optional: print the inserted item\n"
   ]
  },
  {
   "cell_type": "code",
   "execution_count": 13,
   "metadata": {},
   "outputs": [
    {
     "name": "stdout",
     "output_type": "stream",
     "text": [
      "Data exported to S3: rahulbllamdabucket/exported_data.json\n",
      "Data exported to S3: rahulbllamdabucket/exported_data.csv\n"
     ]
    }
   ],
   "source": [
    "\n",
    "# Initialize the DynamoDB and S3 resources\n",
    "dynamodb = boto3.resource('dynamodb')\n",
    "s3 = boto3.client('s3')\n",
    "\n",
    "# Specify the table name and the S3 bucket and file details\n",
    "table_name = 'Movies'\n",
    "bucket_name = 'rahulbllamdabucket'\n",
    "s3_json_file = 'exported_data.json'  # S3 JSON file name\n",
    "s3_csv_file = 'exported_data.csv'  # S3 CSV file name\n",
    "\n",
    "# Function to handle Decimal types during JSON serialization\n",
    "def decimal_default(obj):\n",
    "    if isinstance(obj, Decimal):\n",
    "        return float(obj)\n",
    "    raise TypeError\n",
    "\n",
    "# Export DynamoDB data to a JSON file and upload to S3\n",
    "def export_to_s3_json():\n",
    "    table = dynamodb.Table(table_name)\n",
    "    \n",
    "    # Scan DynamoDB table to get all data\n",
    "    response = table.scan()\n",
    "    data = response['Items']\n",
    "    \n",
    "    # Convert the data to a JSON format\n",
    "    json_data = json.dumps(data, default=decimal_default, indent=4)\n",
    "    \n",
    "    # Upload JSON data to S3\n",
    "    s3.put_object(Bucket=bucket_name, Key=s3_json_file, Body=json_data)\n",
    "    print(f\"Data exported to S3: {bucket_name}/{s3_json_file}\")\n",
    "\n",
    "# Export DynamoDB data to a CSV file and upload to S3\n",
    "def export_to_s3_csv():\n",
    "    table = dynamodb.Table(table_name)\n",
    "    \n",
    "    # Scan DynamoDB table to get all data\n",
    "    response = table.scan()\n",
    "    data = response['Items']\n",
    "    \n",
    "    # Define the CSV headers based on the keys in your data\n",
    "    headers = data[0].keys() if data else []\n",
    "    \n",
    "    # Write data to CSV\n",
    "    csv_file_name = 'local_temp_file.csv'\n",
    "    with open(csv_file_name, 'w', newline='') as csv_file:\n",
    "        writer = csv.DictWriter(csv_file, fieldnames=headers)\n",
    "        writer.writeheader()\n",
    "        for item in data:\n",
    "            writer.writerow({k: str(v) if isinstance(v, Decimal) else v for k, v in item.items()})\n",
    "    \n",
    "    # Upload CSV file to S3\n",
    "    with open(csv_file_name, 'rb') as file_data:\n",
    "        s3.upload_fileobj(file_data, bucket_name, s3_csv_file)\n",
    "    print(f\"Data exported to S3: {bucket_name}/{s3_csv_file}\")\n",
    "\n",
    "if __name__ == \"__main__\":\n",
    "    # Choose either JSON or CSV export\n",
    "    export_to_s3_json()  # Exports as JSON\n",
    "    export_to_s3_csv()   # Exports as CSV\n"
   ]
  },
  {
   "cell_type": "code",
   "execution_count": null,
   "metadata": {},
   "outputs": [],
   "source": []
  }
 ],
 "metadata": {
  "kernelspec": {
   "display_name": "Python 3",
   "language": "python",
   "name": "python3"
  },
  "language_info": {
   "codemirror_mode": {
    "name": "ipython",
    "version": 3
   },
   "file_extension": ".py",
   "mimetype": "text/x-python",
   "name": "python",
   "nbconvert_exporter": "python",
   "pygments_lexer": "ipython3",
   "version": "3.12.4"
  }
 },
 "nbformat": 4,
 "nbformat_minor": 2
}
